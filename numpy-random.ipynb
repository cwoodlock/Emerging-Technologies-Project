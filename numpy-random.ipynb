{
 "cells": [
  {
   "cell_type": "markdown",
   "metadata": {},
   "source": [
    "# What is Numpy?"
   ]
  },
  {
   "cell_type": "markdown",
   "metadata": {},
   "source": [
    "NumPy is a general-purpose array-processing package designed to efficiently manipulate large multi-dimensional arrays of arbitrary records without sacrificing too much speed for small multi-dimensional arrays. NumPy is built on the Numeric code base and adds features introduced by numarray as well as an extended C-API and the ability to create arrays of arbitrary type which also makes NumPy suitable for interfacing with general-purpose data-base applications."
   ]
  },
  {
   "cell_type": "markdown",
   "metadata": {},
   "source": [
    "## Getting started with numpy"
   ]
  },
  {
   "cell_type": "markdown",
   "metadata": {},
   "source": [
    "To get started with numpy we must first import numpy."
   ]
  },
  {
   "cell_type": "code",
   "execution_count": 2,
   "metadata": {},
   "outputs": [],
   "source": [
    "# import numpy to be used\n",
    "import numpy as np"
   ]
  },
  {
   "cell_type": "markdown",
   "metadata": {},
   "source": [
    "## Numpy.Random"
   ]
  },
  {
   "cell_type": "markdown",
   "metadata": {},
   "source": [
    "numpy.random is the reason for this notebook. We were asked to explore and explain the functionality that can be found within the numpy.random package. From here you will see many different ways in which numpy.random can be used. I will not cover every way in which we can use it however I will cover some things that I found interesting or useful."
   ]
  },
  {
   "cell_type": "markdown",
   "metadata": {},
   "source": [
    "The numpy.random package can be used for generating random data, this data can be split into 4 categories; \n",
    "\n",
    "1. Simple Random Data\n",
    "2. Permutations\n",
    "3. Distributions\n",
    "4. Random Generator\n",
    "\n",
    "These categories can be found in full in the [docs](https://docs.scipy.org/doc/numpy-1.13.0/reference/routines.random.html). I will now show how some of these can be used."
   ]
  },
  {
   "cell_type": "markdown",
   "metadata": {},
   "source": [
    "### Simple Random Data"
   ]
  },
  {
   "cell_type": "markdown",
   "metadata": {},
   "source": [
    "What is simple random data, simple random data is very basic as it might sound. It is a subset of a statistical population in which each member of the subset has equal probability to be chosen. A real world example of this might be a dice. When rolling a dice you can roll a number from 1 to 6 inclusive, providing the dice is fair, once rolled a number of times this would produce a set of simple random data. \n",
    "\n",
    "To do this with numpy it is very simple as shown below."
   ]
  },
  {
   "cell_type": "markdown",
   "metadata": {},
   "source": [
    "#### np.random.rand"
   ]
  },
  {
   "cell_type": "code",
   "execution_count": 13,
   "metadata": {},
   "outputs": [
    {
     "data": {
      "text/plain": [
       "array([[0.47516786, 0.12709636, 0.70018406],\n",
       "       [0.4334847 , 0.22483556, 0.72704459],\n",
       "       [0.54817892, 0.09696125, 0.46290083],\n",
       "       [0.94956725, 0.79880222, 0.28725704]])"
      ]
     },
     "execution_count": 13,
     "metadata": {},
     "output_type": "execute_result"
    }
   ],
   "source": [
    "np.random.rand(4,3)"
   ]
  },
  {
   "cell_type": "markdown",
   "metadata": {},
   "source": [
    "Here the numpy library is already imported from above as np and then we use the random package to call the rand function. This can be used to create a 2D array by giving it two arguments, however rand also works if you wish to create a 3D array by giving it three arguments, a regular array by giving it one argument or just generating a single number by giving it no arguments.\n",
    "\n",
    "We can plot these points on a histogram for example by using the mathplotlib.pyplot library."
   ]
  },
  {
   "cell_type": "code",
   "execution_count": 30,
   "metadata": {},
   "outputs": [
    {
     "data": {
      "text/plain": [
       "(array([ 9., 10., 11., 12., 10.,  7.,  7., 10., 11., 13.]),\n",
       " array([0.00243771, 0.10149348, 0.20054925, 0.29960502, 0.3986608 ,\n",
       "        0.49771657, 0.59677234, 0.69582811, 0.79488388, 0.89393965,\n",
       "        0.99299542]),\n",
       " <a list of 10 Patch objects>)"
      ]
     },
     "execution_count": 30,
     "metadata": {},
     "output_type": "execute_result"
    },
    {
     "data": {
      "image/png": "[encoded data removed]",
      "text/plain": [
       "<Figure size 432x288 with 1 Axes>"
      ]
     },
     "metadata": {},
     "output_type": "display_data"
    }
   ],
   "source": [
    "#import matplotlib.pyplot to use for plotting points\n",
    "import matplotlib.pyplot as plt\n",
    "\n",
    "#assign to x\n",
    "x = np.random.rand(100)\n",
    "\n",
    "#label axis\n",
    "plt.ylabel(\" Frequency \")\n",
    "plt.xlabel(\" Values \")\n",
    "\n",
    "#plot the points and display them\n",
    "plt.hist(x)"
   ]
  },
  {
   "cell_type": "markdown",
   "metadata": {},
   "source": [
    "Another function we can use is randn. It returns a sample (or samples) from the “standard normal” distribution. Below is an example of randn being used."
   ]
  },
  {
   "cell_type": "markdown",
   "metadata": {},
   "source": [
    "#### np.random.randn"
   ]
  },
  {
   "cell_type": "code",
   "execution_count": 14,
   "metadata": {},
   "outputs": [
    {
     "data": {
      "text/plain": [
       "array([[ 0.07145051, -0.20828727,  0.04281701],\n",
       "       [ 0.53635842,  0.98615934,  0.15379112],\n",
       "       [ 1.33618414, -0.43504299, -1.32477932],\n",
       "       [-0.08996728, -0.00958703, -0.57858346]])"
      ]
     },
     "execution_count": 14,
     "metadata": {},
     "output_type": "execute_result"
    }
   ],
   "source": [
    "np.random.randn(4,3)"
   ]
  },
  {
   "cell_type": "markdown",
   "metadata": {},
   "source": [
    "The standard normal has a mean of 0 and a variance of 1."
   ]
  },
  {
   "cell_type": "markdown",
   "metadata": {},
   "source": [
    "#### np.random.bytes"
   ]
  },
  {
   "cell_type": "markdown",
   "metadata": {},
   "source": [
    "With this function you can return a string of bytes given a length. The parameter we pass in determines the amount of bytes we generate."
   ]
  },
  {
   "cell_type": "code",
   "execution_count": 22,
   "metadata": {},
   "outputs": [
    {
     "data": {
      "text/plain": [
       "b'\\x7f\\xb1@\\xd8\\xd1|\\xef\\xbf\\x156- \\x87\\x04\\xfe'"
      ]
     },
     "execution_count": 22,
     "metadata": {},
     "output_type": "execute_result"
    }
   ],
   "source": [
    "#generate random bytes\n",
    "np.random.bytes(15)"
   ]
  },
  {
   "cell_type": "markdown",
   "metadata": {},
   "source": [
    "### Permutations"
   ]
  },
  {
   "cell_type": "markdown",
   "metadata": {},
   "source": [
    "Permutations are the second category within the numpy.random library. The smallest of the categories it holds only two functions which are shuffle() and permutation(). These two functions are quite similar however each has its own unique quirks which we will discuss below."
   ]
  },
  {
   "cell_type": "markdown",
   "metadata": {},
   "source": [
    "#### np.random.shuffle"
   ]
  },
  {
   "cell_type": "markdown",
   "metadata": {},
   "source": [
    "How I will demonstrate shuffle is I will first generate an array of 10 numbers which will be ordered smallest to largest. Upon running the shuffle function we will see that the array is no longer ordered."
   ]
  },
  {
   "cell_type": "code",
   "execution_count": 24,
   "metadata": {},
   "outputs": [
    {
     "data": {
      "text/plain": [
       "array([0, 1, 2, 3, 4, 5, 6, 7, 8, 9])"
      ]
     },
     "execution_count": 24,
     "metadata": {},
     "output_type": "execute_result"
    }
   ],
   "source": [
    "#generate the array\n",
    "array = np.arange(10)\n",
    "array"
   ]
  },
  {
   "cell_type": "markdown",
   "metadata": {},
   "source": [
    "We now see the ordered array so lets run the shuffle function and see the output."
   ]
  },
  {
   "cell_type": "code",
   "execution_count": 38,
   "metadata": {},
   "outputs": [
    {
     "data": {
      "text/plain": [
       "array([1, 3, 0, 9, 8, 7, 6, 2, 4, 5])"
      ]
     },
     "execution_count": 38,
     "metadata": {},
     "output_type": "execute_result"
    }
   ],
   "source": [
    "#Shuffle the array\n",
    "np.random.shuffle(array)\n",
    "array"
   ]
  },
  {
   "cell_type": "markdown",
   "metadata": {},
   "source": [
    "Now we see the array is no longer ordered and it was in fact shuffled."
   ]
  },
  {
   "cell_type": "markdown",
   "metadata": {},
   "source": [
    "#### np.random.permutation"
   ]
  },
  {
   "cell_type": "markdown",
   "metadata": {},
   "source": [
    "Permutaion is quite similar to shuffle in that you get a simmilar final output. The key difference however is that rather taking the original array and changing the order of the elements in the array like what shuffle() does, instead permutation takes a copy of the array and returns the elements of the copy in a random orde, thus keeping the original array intact."
   ]
  },
  {
   "cell_type": "code",
   "execution_count": 29,
   "metadata": {},
   "outputs": [
    {
     "data": {
      "text/plain": [
       "array([4, 7, 8, 5, 9, 2, 3, 6, 1, 0])"
      ]
     },
     "execution_count": 29,
     "metadata": {},
     "output_type": "execute_result"
    }
   ],
   "source": [
    "#generate the array\n",
    "array = np.arange(10)\n",
    "\n",
    "#Running np.random.permutation we will take a copy of the array, randomise that and return the copied array\n",
    "np.random.permutation(array)"
   ]
  },
  {
   "cell_type": "code",
   "execution_count": 28,
   "metadata": {},
   "outputs": [
    {
     "data": {
      "text/plain": [
       "array([0, 1, 2, 3, 4, 5, 6, 7, 8, 9])"
      ]
     },
     "execution_count": 28,
     "metadata": {},
     "output_type": "execute_result"
    }
   ],
   "source": [
    "#return the original array showing it is unaltered\n",
    "array"
   ]
  },
  {
   "cell_type": "markdown",
   "metadata": {},
   "source": [
    "### Distributions"
   ]
  },
  {
   "cell_type": "markdown",
   "metadata": {},
   "source": [
    "The distribution of a dataset is a listing of all the possible values of the data and how often they occur. This can be useful for getting trends or finding exceptions. In this section I will explore the different ways in which we can show different types of distributions using numpy.\n",
    "\n",
    "In this section I will be exploring four of the different types of distributions however there are many more to use and implement within the numpy.random library. The functions I will be exploring are;\n",
    "\n",
    "1. Normal\n",
    "2. Power\n",
    "3. Laplace\n",
    "4. Uniform"
   ]
  },
  {
   "cell_type": "markdown",
   "metadata": {},
   "source": [
    "#### np.random.normal"
   ]
  },
  {
   "cell_type": "markdown",
   "metadata": {},
   "source": [
    "This function is often called the bell curve beacuse of it recogniseable shape. We often encounter this in school/college as it is the general or expected trend of scores within a class group.\n",
    "\n",
    "In this example to create the normal distribution I will use a mean score of 50, with 5 standard deviations of the data. I will use 5000 random data points that are of normal distribution. "
   ]
  },
  {
   "cell_type": "code",
   "execution_count": 47,
   "metadata": {},
   "outputs": [
    {
     "data": {
      "image/png": "[encoded data removed]",
      "text/plain": [
       "<Figure size 432x288 with 1 Axes>"
      ]
     },
     "metadata": {},
     "output_type": "display_data"
    }
   ],
   "source": [
    "#adaoted from the docs: https://docs.scipy.org/doc/numpy/reference/generated/numpy.random.normal.html\n",
    "#Set the mean and the standard deviation\n",
    "mean = 50\n",
    "sd = 5\n",
    "sample = 5000\n",
    "\n",
    "#Get samples from the distribution\n",
    "s= np.random.normal(mean, sd, sample)\n",
    "\n",
    "#Display the histogram along with the probability density function\n",
    "count, bins, ignored = plt.hist(s, 30, density=True)\n",
    "plt.plot(bins, 1/(sd * np.sqrt(2 * np.pi)) * np.exp( - (bins - mean)**2 / (2 * sd**2) ),linewidth=2, color='r')\n",
    "plt.show()\n",
    "\n"
   ]
  },
  {
   "cell_type": "markdown",
   "metadata": {},
   "source": [
    "As you can see in the plot above, we have a nice distribution around the mean 50 which is what we expected and we got our nice bell shaped curve."
   ]
  },
  {
   "cell_type": "markdown",
   "metadata": {},
   "source": [
    "#### numpy.random.power"
   ]
  },
  {
   "cell_type": "markdown",
   "metadata": {},
   "source": [
    "The power distribution iis a relationship between two quantities where reletive change change in one results in proportional change in the other. This is used I many fields in science including Astronomy, Biology, Physics and of course Mathematics.\n",
    "\n",
    "In this example I will use 5 as the shape and 5000 samples to plot this function."
   ]
  },
  {
   "cell_type": "code",
   "execution_count": 52,
   "metadata": {},
   "outputs": [
    {
     "data": {
      "text/plain": [
       "[<matplotlib.lines.Line2D at 0x1ba23f0eb8>]"
      ]
     },
     "execution_count": 52,
     "metadata": {},
     "output_type": "execute_result"
    },
    {
     "data": {
      "image/png": "[encoded data removed]",
      "text/plain": [
       "<Figure size 432x288 with 1 Axes>"
      ]
     },
     "metadata": {},
     "output_type": "display_data"
    }
   ],
   "source": [
    "#shape of the fuction\n",
    "a = 5.\n",
    "sample = 5000\n",
    "\n",
    "#Get samples from the distribution\n",
    "s = np.random.power(a,sample)\n",
    "\n",
    "#Display the histogram along with the probability density function\n",
    "count, bins, ignored = plt.hist(s, bins=30)\n",
    "x = np.linspace(0, 1, 100)\n",
    "y = a*x**(a-1.)\n",
    "normed_y = sample*np.diff(bins)[0]*y\n",
    "plt.plot(x, normed_y)"
   ]
  },
  {
   "cell_type": "markdown",
   "metadata": {},
   "source": [
    "#### numpy.random.laplace"
   ]
  },
  {
   "cell_type": "markdown",
   "metadata": {},
   "source": [
    "One of the more interesting distributions in my opinion in this library is laplace. The way I like to think about laplace is that it is two exponential distributions spliced back to back to create an interesting shape. \n",
    "\n",
    "Below I show the laplace distribution over a histogram. I will use 0 as my location and 1 as my scale."
   ]
  },
  {
   "cell_type": "code",
   "execution_count": 56,
   "metadata": {},
   "outputs": [
    {
     "data": {
      "text/plain": [
       "[<matplotlib.lines.Line2D at 0x1ba2611278>]"
      ]
     },
     "execution_count": 56,
     "metadata": {},
     "output_type": "execute_result"
    },
    {
     "data": {
      "image/png": "[encoded data removed]",
      "text/plain": [
       "<Figure size 432x288 with 1 Axes>"
      ]
     },
     "metadata": {},
     "output_type": "display_data"
    }
   ],
   "source": [
    "#set location, scale values and sample size\n",
    "loc = 0.\n",
    "scale = 1\n",
    "sample = 5000\n",
    "\n",
    "#get the samples from the distribution\n",
    "s = np.random.laplace(loc, scale, sample)\n",
    "\n",
    "#Display the histogram samples along with the probability density function\n",
    "count, bins, ignored = plt.hist(s, 30, density=True)\n",
    "x = np.arange(-8., 8., .01)\n",
    "pdf = np.exp(-abs(x-loc)/scale)/(2.*scale)\n",
    "plt.plot(x, pdf)"
   ]
  },
  {
   "cell_type": "markdown",
   "metadata": {},
   "source": [
    "#### numpy.random.uniform"
   ]
  },
  {
   "cell_type": "markdown",
   "metadata": {},
   "source": [
    "The final "
   ]
  }
 ],
 "metadata": {
  "kernelspec": {
   "display_name": "Python 3",
   "language": "python",
   "name": "python3"
  },
  "language_info": {
   "codemirror_mode": {
    "name": "ipython",
    "version": 3
   },
   "file_extension": ".py",
   "mimetype": "text/x-python",
   "name": "python",
   "nbconvert_exporter": "python",
   "pygments_lexer": "ipython3",
   "version": "3.6.5"
  }
 },
 "nbformat": 4,
 "nbformat_minor": 2
}
