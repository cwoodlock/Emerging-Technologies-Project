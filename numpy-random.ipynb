{
 "cells": [
  {
   "cell_type": "markdown",
   "metadata": {},
   "source": [
    "# What is Numpy?"
   ]
  },
  {
   "cell_type": "markdown",
   "metadata": {},
   "source": [
    "NumPy is a general-purpose array-processing package designed to efficiently manipulate large multi-dimensional arrays of arbitrary records without sacrificing too much speed for small multi-dimensional arrays. NumPy is built on the Numeric code base and adds features introduced by numarray as well as an extended C-API and the ability to create arrays of arbitrary type which also makes NumPy suitable for interfacing with general-purpose data-base applications."
   ]
  },
  {
   "cell_type": "markdown",
   "metadata": {},
   "source": [
    "## Getting started with numpy"
   ]
  },
  {
   "cell_type": "markdown",
   "metadata": {},
   "source": [
    "To get started with numpy we must first import numpy."
   ]
  },
  {
   "cell_type": "code",
   "execution_count": 2,
   "metadata": {},
   "outputs": [],
   "source": [
    "# import numpy to be used\n",
    "import numpy as np"
   ]
  },
  {
   "cell_type": "markdown",
   "metadata": {},
   "source": [
    "## Numpy.Random"
   ]
  },
  {
   "cell_type": "markdown",
   "metadata": {},
   "source": [
    "numpy.random is the reason for this notebook. We were asked to explore and explain the functionality that can be found within the numpy.random package. From here you will see many different ways in which numpy.random can be used. I will not cover every way in which we can use it however I will cover some things that I found interesting or useful."
   ]
  },
  {
   "cell_type": "markdown",
   "metadata": {},
   "source": [
    "The numpy.random package can be used for generating random data, this data can be split into 4 categories; \n",
    "\n",
    "1. Simple Random Data\n",
    "2. Permutations\n",
    "3. Distributions\n",
    "4. Random Generator\n",
    "\n",
    "These categories can be found in full in the [docs](https://docs.scipy.org/doc/numpy-1.13.0/reference/routines.random.html). I will now show how some of these can be used."
   ]
  },
  {
   "cell_type": "markdown",
   "metadata": {},
   "source": [
    "### Simple Random Data"
   ]
  },
  {
   "cell_type": "markdown",
   "metadata": {},
   "source": [
    "What is simple random data, simple random data is very basic as it might sound. It is a subset of a statistical population in which each member of the subset has equal probability to be chosen. A real world example of this might be a dice. When rolling a dice you can roll a number from 1 to 6 inclusive, providing the dice is fair, once rolled a number of times this would produce a set of simple random data. \n",
    "\n",
    "To do this with numpy it is very simple as shown below."
   ]
  },
  {
   "cell_type": "markdown",
   "metadata": {},
   "source": [
    "#### np.random.rand"
   ]
  },
  {
   "cell_type": "code",
   "execution_count": 13,
   "metadata": {},
   "outputs": [
    {
     "data": {
      "text/plain": [
       "array([[0.47516786, 0.12709636, 0.70018406],\n",
       "       [0.4334847 , 0.22483556, 0.72704459],\n",
       "       [0.54817892, 0.09696125, 0.46290083],\n",
       "       [0.94956725, 0.79880222, 0.28725704]])"
      ]
     },
     "execution_count": 13,
     "metadata": {},
     "output_type": "execute_result"
    }
   ],
   "source": [
    "np.random.rand(4,3)"
   ]
  },
  {
   "cell_type": "markdown",
   "metadata": {},
   "source": [
    "Here the numpy library is already imported from above as np and then we use the random package to call the rand function. This can be used to create a 2D array by giving it two arguments, however rand also works if you wish to create a 3D array by giving it three arguments, a regular array by giving it one argument or just generating a single number by giving it no arguments."
   ]
  },
  {
   "cell_type": "markdown",
   "metadata": {},
   "source": [
    "Another function we can use is randn. It returns a sample (or samples) from the “standard normal” distribution. Below is an example of randn being used."
   ]
  },
  {
   "cell_type": "markdown",
   "metadata": {},
   "source": [
    "#### np.random.randn"
   ]
  },
  {
   "cell_type": "code",
   "execution_count": 14,
   "metadata": {},
   "outputs": [
    {
     "data": {
      "text/plain": [
       "array([[ 0.07145051, -0.20828727,  0.04281701],\n",
       "       [ 0.53635842,  0.98615934,  0.15379112],\n",
       "       [ 1.33618414, -0.43504299, -1.32477932],\n",
       "       [-0.08996728, -0.00958703, -0.57858346]])"
      ]
     },
     "execution_count": 14,
     "metadata": {},
     "output_type": "execute_result"
    }
   ],
   "source": [
    "np.random.randn(4,3)"
   ]
  },
  {
   "cell_type": "markdown",
   "metadata": {},
   "source": [
    "The standard normal has a mean of 0 and a variance of 1."
   ]
  },
  {
   "cell_type": "code",
   "execution_count": null,
   "metadata": {},
   "outputs": [],
   "source": []
  }
 ],
 "metadata": {
  "kernelspec": {
   "display_name": "Python 3",
   "language": "python",
   "name": "python3"
  },
  "language_info": {
   "codemirror_mode": {
    "name": "ipython",
    "version": 3
   },
   "file_extension": ".py",
   "mimetype": "text/x-python",
   "name": "python",
   "nbconvert_exporter": "python",
   "pygments_lexer": "ipython3",
   "version": "3.6.5"
  }
 },
 "nbformat": 4,
 "nbformat_minor": 2
}
